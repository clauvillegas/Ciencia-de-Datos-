{
  "nbformat": 4,
  "nbformat_minor": 0,
  "metadata": {
    "colab": {
      "provenance": []
    },
    "kernelspec": {
      "name": "python3",
      "display_name": "Python 3"
    },
    "language_info": {
      "name": "python"
    }
  },
  "cells": [
    {
      "cell_type": "code",
      "execution_count": 2,
      "metadata": {
        "colab": {
          "base_uri": "https://localhost:8080/"
        },
        "id": "lKkdNnY2quGY",
        "outputId": "46e50031-9227-41a3-f28e-660f71d3f369"
      },
      "outputs": [
        {
          "output_type": "stream",
          "name": "stdout",
          "text": [
            "Total sin descuento: 3600\n",
            "Monto de descuento: 3240\n",
            "Total con descuento: 360\n"
          ]
        }
      ],
      "source": [
        "precio_producto = 1200\n",
        "cantidad = 3\n",
        "descuento = 10.0\n",
        "total_sin_descuento = int(precio_producto * cantidad)\n",
        "total_con_descuento = int(total_sin_descuento * (1 - descuento / 100))\n",
        "monto_descuento = total_sin_descuento - total_con_descuento\n",
        "print(\"Total sin descuento:\", total_sin_descuento)\n",
        "print(\"Monto de descuento:\", total_con_descuento)\n",
        "print(\"Total con descuento:\", monto_descuento)\n"
      ]
    }
  ]
}